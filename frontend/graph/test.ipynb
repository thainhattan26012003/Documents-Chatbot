{
 "cells": [
  {
   "cell_type": "code",
   "execution_count": 5,
   "metadata": {},
   "outputs": [
    {
     "name": "stdout",
     "output_type": "stream",
     "text": [
      "CER: 0.03\n",
      "WER: 0.20\n"
     ]
    }
   ],
   "source": [
    "import re\n",
    "import Levenshtein\n",
    "\n",
    "def normalize_text(text: str) -> str:\n",
    "    \"\"\"\n",
    "    Chuẩn hóa văn bản:\n",
    "    - Loại bỏ khoảng trắng dư thừa (nhiều khoảng trắng giữa các từ).\n",
    "    - Loại bỏ khoảng trắng đầu/cuối.\n",
    "    - Chuyển về chữ thường.\n",
    "    \"\"\"\n",
    "    # Tách chuỗi thành các từ rồi nối lại bằng một khoảng trắng\n",
    "    return ' '.join(text.strip().split()).lower()\n",
    "\n",
    "def calculate_cer(ground_truth: str, ocr_result: str) -> float:\n",
    "    \"\"\"\n",
    "    Tính toán Character Error Rate (CER)\n",
    "    CER = (S + D + I) / N, với N là tổng số ký tự của ground truth.\n",
    "    \"\"\"\n",
    "    # Chuẩn hóa văn bản\n",
    "    gt_norm = normalize_text(ground_truth)\n",
    "    ocr_norm = normalize_text(ocr_result)\n",
    "    \n",
    "    edit_distance = Levenshtein.distance(gt_norm, ocr_norm)\n",
    "    if len(gt_norm) == 0:\n",
    "        return float('inf')\n",
    "    return edit_distance / len(gt_norm)\n",
    "\n",
    "def calculate_wer(ground_truth: str, ocr_result: str) -> float:\n",
    "    \"\"\"\n",
    "    Tính toán Word Error Rate (WER) theo cấp độ từ.\n",
    "    \"\"\"\n",
    "    # Chuẩn hóa văn bản\n",
    "    gt_norm = normalize_text(ground_truth)\n",
    "    ocr_norm = normalize_text(ocr_result)\n",
    "    \n",
    "    gt_words = gt_norm.split()\n",
    "    ocr_words = ocr_norm.split()\n",
    "    \n",
    "    # Khởi tạo bảng dynamic programming để tính khoảng cách edit giữa danh sách từ\n",
    "    n = len(gt_words)\n",
    "    m = len(ocr_words)\n",
    "    dp = [[0] * (m + 1) for _ in range(n + 1)]\n",
    "    \n",
    "    for i in range(n + 1):\n",
    "        dp[i][0] = i\n",
    "    for j in range(m + 1):\n",
    "        dp[0][j] = j\n",
    "    \n",
    "    for i in range(1, n + 1):\n",
    "        for j in range(1, m + 1):\n",
    "            if gt_words[i - 1] == ocr_words[j - 1]:\n",
    "                dp[i][j] = dp[i - 1][j - 1]\n",
    "            else:\n",
    "                dp[i][j] = 1 + min(dp[i - 1][j],    # deletion\n",
    "                                   dp[i][j - 1],    # insertion\n",
    "                                   dp[i - 1][j - 1]) # substitution\n",
    "    \n",
    "    if n == 0:\n",
    "        return float('inf')\n",
    "    return dp[n][m] / n\n",
    "\n",
    "# Ví dụ sử dụng:\n",
    "if __name__ == '__main__':\n",
    "    ground_truth_text = \"  Đây    là   một   ví dụ  về  văn bản    tiếng Việt.  \"\n",
    "    ocr_output_text = \"  Đây làmột   ví dụ  về  văn bản    tiếng Việt.  \"\n",
    "    \n",
    "    cer_value = calculate_cer(ground_truth_text, ocr_output_text)\n",
    "    wer_value = calculate_wer(ground_truth_text, ocr_output_text)\n",
    "    \n",
    "    print(f\"CER: {cer_value:.2f}\")\n",
    "    print(f\"WER: {wer_value:.2f}\")\n"
   ]
  },
  {
   "cell_type": "code",
   "execution_count": 1,
   "metadata": {},
   "outputs": [
    {
     "name": "stdout",
     "output_type": "stream",
     "text": [
      "Defaulting to user installation because normal site-packages is not writeable\n",
      "Collecting python-Levenshtein\n",
      "  Downloading python_levenshtein-0.27.1-py3-none-any.whl.metadata (3.7 kB)\n",
      "Collecting Levenshtein==0.27.1 (from python-Levenshtein)\n",
      "  Downloading levenshtein-0.27.1-cp312-cp312-win_amd64.whl.metadata (3.6 kB)\n",
      "Requirement already satisfied: rapidfuzz<4.0.0,>=3.9.0 in c:\\users\\thain\\appdata\\roaming\\python\\python312\\site-packages (from Levenshtein==0.27.1->python-Levenshtein) (3.11.0)\n",
      "Downloading python_levenshtein-0.27.1-py3-none-any.whl (9.4 kB)\n",
      "Downloading levenshtein-0.27.1-cp312-cp312-win_amd64.whl (100 kB)\n",
      "Installing collected packages: Levenshtein, python-Levenshtein\n",
      "Successfully installed Levenshtein-0.27.1 python-Levenshtein-0.27.1\n"
     ]
    },
    {
     "name": "stderr",
     "output_type": "stream",
     "text": [
      "\n",
      "[notice] A new release of pip is available: 24.2 -> 25.0.1\n",
      "[notice] To update, run: python.exe -m pip install --upgrade pip\n"
     ]
    }
   ],
   "source": [
    "!pip install python-Levenshtein"
   ]
  },
  {
   "cell_type": "code",
   "execution_count": 1,
   "metadata": {},
   "outputs": [
    {
     "name": "stdout",
     "output_type": "stream",
     "text": [
      "Defaulting to user installation because normal site-packages is not writeable\n",
      "Collecting neo4j==1.7.3\n",
      "  Using cached neo4j-1.7.3.tar.gz (24 kB)\n",
      "  Installing build dependencies: started\n",
      "  Installing build dependencies: finished with status 'done'\n",
      "  Getting requirements to build wheel: started\n",
      "  Getting requirements to build wheel: finished with status 'done'\n",
      "  Preparing metadata (pyproject.toml): started\n",
      "  Preparing metadata (pyproject.toml): finished with status 'done'\n",
      "Collecting neobolt==1.7.13\n",
      "  Using cached neobolt-1.7.13.tar.gz (183 kB)\n",
      "  Installing build dependencies: started\n",
      "  Installing build dependencies: finished with status 'done'\n",
      "  Getting requirements to build wheel: started\n",
      "  Getting requirements to build wheel: finished with status 'done'\n",
      "  Preparing metadata (pyproject.toml): started\n",
      "  Preparing metadata (pyproject.toml): finished with status 'done'\n",
      "Collecting neotime~=1.7.1 (from neo4j==1.7.3)\n",
      "  Using cached neotime-1.7.4.tar.gz (17 kB)\n",
      "  Installing build dependencies: started\n",
      "  Installing build dependencies: finished with status 'done'\n",
      "  Getting requirements to build wheel: started\n",
      "  Getting requirements to build wheel: finished with status 'done'\n",
      "  Preparing metadata (pyproject.toml): started\n",
      "  Preparing metadata (pyproject.toml): finished with status 'done'\n",
      "Requirement already satisfied: pytz in c:\\users\\thain\\appdata\\roaming\\python\\python312\\site-packages (from neotime~=1.7.1->neo4j==1.7.3) (2024.2)\n",
      "Requirement already satisfied: six in c:\\users\\thain\\appdata\\roaming\\python\\python312\\site-packages (from neotime~=1.7.1->neo4j==1.7.3) (1.16.0)\n",
      "Building wheels for collected packages: neo4j, neobolt, neotime\n",
      "  Building wheel for neo4j (pyproject.toml): started\n",
      "  Building wheel for neo4j (pyproject.toml): finished with status 'done'\n",
      "  Created wheel for neo4j: filename=neo4j-1.7.3-py3-none-any.whl size=32517 sha256=b46f1dde31fffd0cf13b93dc3c902de2625296cabe4ec05ccc85ecdf48208ef3\n",
      "  Stored in directory: c:\\users\\thain\\appdata\\local\\pip\\cache\\wheels\\54\\81\\6b\\0c8205dc039c4f40037a00bae487ded9bc2cf57b960a97341e\n",
      "  Building wheel for neobolt (pyproject.toml): started\n",
      "  Building wheel for neobolt (pyproject.toml): finished with status 'done'\n",
      "  Created wheel for neobolt: filename=neobolt-1.7.13-py3-none-any.whl size=37223 sha256=1c3563c4d8010ee36ab81d0631cb1b79bb3fd6686da1d993638d3cd46c8ed1ae\n",
      "  Stored in directory: c:\\users\\thain\\appdata\\local\\pip\\cache\\wheels\\cf\\cc\\7b\\04f1bffa675f8a6e204b4a52e0aa68d221900df0556c0306df\n",
      "  Building wheel for neotime (pyproject.toml): started\n",
      "  Building wheel for neotime (pyproject.toml): finished with status 'done'\n",
      "  Created wheel for neotime: filename=neotime-1.7.4-py3-none-any.whl size=20615 sha256=286ef5ebd0e50134acbf7b86ac2e77ef5425c8222de3dea269ed979934646a5b\n",
      "  Stored in directory: c:\\users\\thain\\appdata\\local\\pip\\cache\\wheels\\31\\cf\\5a\\d8e1e0c7910917c9f592a7e16782a40ae6130d7e4d55352f4c\n",
      "Successfully built neo4j neobolt neotime\n",
      "Installing collected packages: neobolt, neotime, neo4j\n",
      "Successfully installed neo4j-1.7.3 neobolt-1.7.13 neotime-1.7.4\n"
     ]
    },
    {
     "name": "stderr",
     "output_type": "stream",
     "text": [
      "\n",
      "[notice] A new release of pip is available: 24.2 -> 25.0.1\n",
      "[notice] To update, run: python.exe -m pip install --upgrade pip\n"
     ]
    }
   ],
   "source": [
    "!pip install neo4j==1.7.3 neobolt==1.7.13"
   ]
  },
  {
   "cell_type": "code",
   "execution_count": null,
   "metadata": {},
   "outputs": [],
   "source": []
  }
 ],
 "metadata": {
  "kernelspec": {
   "display_name": "Python 3",
   "language": "python",
   "name": "python3"
  },
  "language_info": {
   "codemirror_mode": {
    "name": "ipython",
    "version": 3
   },
   "file_extension": ".py",
   "mimetype": "text/x-python",
   "name": "python",
   "nbconvert_exporter": "python",
   "pygments_lexer": "ipython3",
   "version": "3.12.6"
  }
 },
 "nbformat": 4,
 "nbformat_minor": 2
}
